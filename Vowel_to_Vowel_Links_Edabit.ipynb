{
 "metadata": {
  "language_info": {
   "codemirror_mode": {
    "name": "ipython",
    "version": 3
   },
   "file_extension": ".py",
   "mimetype": "text/x-python",
   "name": "python",
   "nbconvert_exporter": "python",
   "pygments_lexer": "ipython3",
   "version": "3.8.2-final"
  },
  "orig_nbformat": 2,
  "kernelspec": {
   "name": "python_defaultSpec_1597914062749",
   "display_name": "Python 3.8.2 32-bit"
  }
 },
 "nbformat": 4,
 "nbformat_minor": 2,
 "cells": [
  {
   "cell_type": "code",
   "execution_count": null,
   "metadata": {},
   "outputs": [],
   "source": [
    "# --EDABIT--\n",
    "# Given a sentence as txt, return True if any two adjacent words have this property: One word ends with a vowel, while the word immediately after begins with a vowel.\n",
    "def vowel_links(txt):\n",
    "\ta = txt.split()\n",
    "\tvowels = \"aeiou\"\n",
    "\tfor i in range (len(a)-1):\n",
    "\t\tif a[i][-1] in vowels and a[i+1][0] in vowels :\n",
    "\t\t\treturn True\n",
    "    #else: not need to use else\n",
    "\treturn False\n",
    "vowel_links(\"a very large appliance\")\n",
    "vowel_links(\"an open fire\")"
   ]
  }
 ]
}